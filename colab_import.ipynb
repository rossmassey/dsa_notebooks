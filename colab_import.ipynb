{
 "cells": [
  {
   "cell_type": "markdown",
   "id": "c1e9f871-c499-42b1-978d-f0c035b068b6",
   "metadata": {},
   "source": [
    "# Google Colab Import Handler\n",
    "\n",
    "A local jupyter lab session in this repo will grant access to all of its files\n",
    "\n",
    "However in Google Colab it only loads the specified `.ipynb` file (the index page), and clicking a link to a different notebook will start a new instance\n",
    "\n",
    "The following code is added before loading (`%run`) a separate notebook to ensure it is available to a colab instance\n",
    "\n",
    "It checks out the repo into the Colab instance and changes directory into its root"
   ]
  },
  {
   "cell_type": "code",
   "execution_count": 1,
   "id": "7b70e4ac-466d-4147-a65a-bf076f746832",
   "metadata": {},
   "outputs": [],
   "source": [
    "if get_ipython().__class__.__module__.startswith(\"google.colab\"):\n",
    "    !git clone https://github.com/rossmassey/dsa_notebooks /content/dsa_notebooks/\n",
    "    %cd /content/dsa_notebooks/"
   ]
  }
 ],
 "metadata": {
  "kernelspec": {
   "display_name": "Python 3 (dsa_notebooks_env)",
   "language": "python",
   "name": "dsa_notebooks_env"
  },
  "language_info": {
   "codemirror_mode": {
    "name": "ipython",
    "version": 3
   },
   "file_extension": ".py",
   "mimetype": "text/x-python",
   "name": "python",
   "nbconvert_exporter": "python",
   "pygments_lexer": "ipython3",
   "version": "3.11.7"
  }
 },
 "nbformat": 4,
 "nbformat_minor": 5
}
