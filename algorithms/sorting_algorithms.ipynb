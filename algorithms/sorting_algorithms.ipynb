{
 "cells": [
  {
   "cell_type": "markdown",
   "id": "b3365f57-9994-41fc-9f05-33484a0dc735",
   "metadata": {},
   "source": [
    "# Sorting Algorithms\n",
    "\n",
    "https://leetcode.com/problems/sort-an-array/"
   ]
  },
  {
   "cell_type": "markdown",
   "id": "971fd474-41c2-40bd-bbd5-cd84f9fc3043",
   "metadata": {},
   "source": [
    "## Bubble Sort\n",
    "\n",
    "- Time: `O(n^2)`\n",
    "- Space: `O(1)`"
   ]
  },
  {
   "cell_type": "code",
   "execution_count": 1,
   "id": "5ebc6237-3429-41db-b3ee-cfe21552ebdc",
   "metadata": {},
   "outputs": [],
   "source": [
    "def bubble_sort(nums):\n",
    "    while True:\n",
    "        swapped = False\n",
    "\n",
    "        for i in range(1, len(nums)):\n",
    "            # if element is smaller than previous, it is not in ascending order\n",
    "            if nums[i-1] > nums[i]:\n",
    "                # swap elements, mark that an out of order element was found\n",
    "                nums[i], nums[i-1] = nums[i-1], nums[i]\n",
    "                swapped = True\n",
    "\n",
    "        # if no swaps (out of order elements) then the list is in ascending order, finished\n",
    "        if not swapped:\n",
    "            break\n",
    "\n",
    "    return nums "
   ]
  },
  {
   "cell_type": "markdown",
   "id": "6e9b0eca-85b0-490e-9f28-1801eb3044c7",
   "metadata": {},
   "source": [
    "## Selection Sort\n",
    "- Time: `O(n^2)`\n",
    "- Space: `O(1)`"
   ]
  },
  {
   "cell_type": "code",
   "execution_count": 2,
   "id": "5b9008df-fb7a-4c34-8691-00d568485428",
   "metadata": {},
   "outputs": [],
   "source": [
    "def selection_sort(nums):\n",
    "    # can skip last iteration since it will be in correct place\n",
    "    for i in range(len(nums) - 1):\n",
    "        min_index = i\n",
    "\n",
    "        # for each sub-array, find smallest element\n",
    "        for j in range(i+1, len(nums)):\n",
    "            if nums[j] < nums[min_index]:\n",
    "                min_index = j\n",
    "        \n",
    "        # swap smallest element with beginning element (i), continue to next iteration (i+1)\n",
    "        # do not need to swap if beginning element was already smallest (already correct place)\n",
    "        if min_index != i:\n",
    "            nums[i], nums[min_index] = nums[min_index], nums[i] \n",
    "\n",
    "    return nums"
   ]
  },
  {
   "cell_type": "markdown",
   "id": "d6f015d4-05fc-4860-ba21-1672b092f01f",
   "metadata": {},
   "source": [
    "## Insertion Sort\n",
    "- Time: `O(n^2)`\n",
    "- Space: `O(1)`"
   ]
  },
  {
   "cell_type": "code",
   "execution_count": 3,
   "id": "a9928b17-4334-4ac0-9a30-47892de76f93",
   "metadata": {},
   "outputs": [],
   "source": [
    "def insertion_sort(nums):\n",
    "    # go through each element skipping first \n",
    "    for i in range(1, len(nums)):\n",
    "        j = i\n",
    "\n",
    "        # shift element at i down repeatedly (j) until it is not smaller than previous\n",
    "        while j > 0 and nums[j-1] > nums[j]:\n",
    "            nums[j-1], nums[j] = nums[j], nums[j-1]\n",
    "            j -= 1\n",
    "        \n",
    "    return nums"
   ]
  },
  {
   "cell_type": "markdown",
   "id": "1560d62f-1ba9-44e4-be67-9f4ff9184b27",
   "metadata": {},
   "source": [
    "## Merge Sort\n",
    "- Time: `O(n log n)`\n",
    "- Space: `O(n)`"
   ]
  },
  {
   "cell_type": "markdown",
   "id": "a62544d8-aac1-4e43-947e-bd6d0a7fed1b",
   "metadata": {},
   "source": [
    "### _merge()\n",
    "\n",
    "The helper function `_merge()` merges two sorted lists into a single sorted list\n",
    "\n",
    "Same result as `heapq.merge()`"
   ]
  },
  {
   "cell_type": "code",
   "execution_count": 4,
   "id": "324be3bb-e2ec-433f-b18d-47ae8c60b2ec",
   "metadata": {},
   "outputs": [],
   "source": [
    "def _merge(a, b):\n",
    "    merged = []\n",
    "    \n",
    "    # add a and b's elements to empty list in order\n",
    "    i = 0\n",
    "    j = 0\n",
    "    while (i != len(a) and j != len(b)):\n",
    "        if a[i] < b[j]:\n",
    "            merged.append(a[i])\n",
    "            i += 1\n",
    "        else:\n",
    "            merged.append(b[j])\n",
    "            j += 1\n",
    "    \n",
    "    # handle remaining elements once one list finished\n",
    "    while i != len(a):\n",
    "        merged.append(a[i])\n",
    "        i += 1\n",
    "\n",
    "    while j != len(b):\n",
    "        merged.append(b[j])\n",
    "        j += 1\n",
    "\n",
    "    return merged"
   ]
  },
  {
   "cell_type": "markdown",
   "id": "2901c632-314a-4725-b877-81ec9352703d",
   "metadata": {},
   "source": [
    "### Top Down Merge Sort\n",
    "\n",
    "This approach uses recursion, splitting the list in half until it reaches 1 element size arrays to begin merging\n",
    "\n",
    "Uses the `_merge()` helper function"
   ]
  },
  {
   "cell_type": "code",
   "execution_count": 5,
   "id": "10572fa6-263d-4ff8-9c3c-187aa133fd89",
   "metadata": {},
   "outputs": [],
   "source": [
    "def top_down_merge_sort(nums):\n",
    "    # base case, return nums if size 1\n",
    "    if len(nums) == 1:\n",
    "        return nums\n",
    "\n",
    "    # split into 2 lists\n",
    "    midpoint = int(len(nums)/2)\n",
    "    left = nums[:midpoint]   # [:k] exclusive of k\n",
    "    right = nums[midpoint:]  # [k:] inclusive of k\n",
    "\n",
    "    left_sorted = top_down_merge_sort(left)\n",
    "    right_sorted = top_down_merge_sort(right)\n",
    "\n",
    "    # merge two resulting \n",
    "    return _merge(left_sorted, right_sorted)\n"
   ]
  },
  {
   "cell_type": "markdown",
   "id": "64d8509d-244d-470c-b9c2-f8951ac0d089",
   "metadata": {},
   "source": [
    "### Bottom Up Merge Sort\n",
    "\n",
    "This is an iterative approach, that starts at size 1 array and doubles at each iteration while merging until input size reached\n",
    "\n",
    "Uses the `_merge()` helper function"
   ]
  },
  {
   "cell_type": "code",
   "execution_count": 6,
   "id": "0f05c768-3e7e-4868-9f0b-08b8f9c2401d",
   "metadata": {},
   "outputs": [],
   "source": [
    "def bottom_up_merge_sort(nums):\n",
    "    n = len(nums)\n",
    "    result = list(nums)\n",
    "    width = 1\n",
    "\n",
    "    while width < n:\n",
    "        for start in range(0, n, 2 * width):\n",
    "            mid = min(start + width, n)\n",
    "            end = min(start + 2 * width, n)\n",
    "\n",
    "            merged = _merge(result[start:mid], result[mid:end])\n",
    "            result[start:end] = merged\n",
    "\n",
    "        width *= 2\n",
    "\n",
    "    return result"
   ]
  },
  {
   "cell_type": "markdown",
   "id": "8c7a9e07-39e0-4296-b4c4-aad942ffd37a",
   "metadata": {},
   "source": [
    "### Bottom Up Merge Sort with one buffer array\n",
    "\n",
    "This is the same iterative approach, but does not use slicing and maintains a single auxilary buffer"
   ]
  },
  {
   "cell_type": "code",
   "execution_count": 7,
   "id": "4dd028ca-fe08-4d14-a638-51e355182eae",
   "metadata": {},
   "outputs": [],
   "source": [
    "def bottom_up_merge_sort_less_space(nums):\n",
    "    n = len(nums)\n",
    "\n",
    "    # maintain running merged result and a buffer to use during element swaps\n",
    "    merged = list(nums)\n",
    "    buffer = [None] * n\n",
    "\n",
    "    width = 1\n",
    "    while width < n:\n",
    "        # width will start at 1 and go to 2, 4, 8, ..., n\n",
    "        for start in range(0, n, width * 2):\n",
    "            # divide into 2 halves, use min to avoid out of index\n",
    "            mid = min(start + width, n)\n",
    "            end = min(start + 2 * width, n)\n",
    "\n",
    "            # treat as left and right partition\n",
    "            left = start\n",
    "            right = mid\n",
    "\n",
    "            # copy in order to auxiliary array\n",
    "            i = start\n",
    "            while i < end:\n",
    "                # if left still has elements (hasnt gone past midpoint, left's end)\n",
    "                #    and either right is out of elements (past end)\n",
    "                #            or left <= right (smaller)\n",
    "                # then use element from left\n",
    "                if left < mid and (right >= end or merged[left] <= merged[right]):\n",
    "                    buffer[i] = merged[left]\n",
    "                    left += 1\n",
    "                    \n",
    "                # else use element from right\n",
    "                else:\n",
    "                    buffer[i] = merged[right]\n",
    "                    right += 1\n",
    "\n",
    "                i += 1\n",
    "\n",
    "        # swap buffer with merged result\n",
    "        merged, buffer = buffer, merged\n",
    "        width *= 2\n",
    "\n",
    "    return merged"
   ]
  },
  {
   "cell_type": "markdown",
   "id": "c7f5d8a7-9bff-4fa1-a860-e433f3ea145a",
   "metadata": {},
   "source": [
    "## TODO\n",
    "- heap\n",
    "- bucket\n",
    "- quicksort"
   ]
  }
 ],
 "metadata": {
  "kernelspec": {
   "display_name": "Python 3 (dsa_notebooks_env)",
   "language": "python",
   "name": "dsa_notebooks_env"
  },
  "language_info": {
   "codemirror_mode": {
    "name": "ipython",
    "version": 3
   },
   "file_extension": ".py",
   "mimetype": "text/x-python",
   "name": "python",
   "nbconvert_exporter": "python",
   "pygments_lexer": "ipython3",
   "version": "3.11.7"
  }
 },
 "nbformat": 4,
 "nbformat_minor": 5
}
