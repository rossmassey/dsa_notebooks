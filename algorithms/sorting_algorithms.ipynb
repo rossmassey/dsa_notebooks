{
 "cells": [
  {
   "cell_type": "markdown",
   "id": "b3365f57-9994-41fc-9f05-33484a0dc735",
   "metadata": {
    "id": "b3365f57-9994-41fc-9f05-33484a0dc735"
   },
   "source": [
    "# Sorting Algorithms\n",
    "\n",
    "https://leetcode.com/problems/sort-an-array/"
   ]
  },
  {
   "cell_type": "markdown",
   "id": "0223315f-b4ce-4519-9fa0-e316c7ed633b",
   "metadata": {},
   "source": [
    "| Algorithm Name | Time Complexity | Space Complexity |\n",
    "|----------------| -- | -- |\n",
    "| Bubble Sort    | `O(n^2)` | `O(1)` |\n",
    "| Selection Sort | `O(n^2)` | `O(1)` |\n",
    "| Insertion Sort | `O(n^2)` | `O(1)` |\n",
    "| Merge Sort     | `O(n log n)` | `O(n)` |\n",
    "| Heap Sort      | `O(n log n)` | `O(1)` if in-place, else `O(n)` |\n",
    "| Quick Sort     | `O(n log n)` avg, `O(n^2)` worse | `O(n)` stack space |\n",
    "| Bucket Sort    | `O(n)` | `O(k)`, where `k` is max element (positives only) |\n",
    "| Count Sort     | `O(k + n)`, where `k` is difference between largest and smallest | `O(n)` |"
   ]
  },
  {
   "cell_type": "markdown",
   "id": "971fd474-41c2-40bd-bbd5-cd84f9fc3043",
   "metadata": {
    "id": "971fd474-41c2-40bd-bbd5-cd84f9fc3043"
   },
   "source": [
    "## Bubble Sort\n",
    "\n",
    "- Time: `O(n^2)`\n",
    "- Space: `O(1)`"
   ]
  },
  {
   "cell_type": "code",
   "execution_count": 1,
   "id": "5ebc6237-3429-41db-b3ee-cfe21552ebdc",
   "metadata": {
    "id": "5ebc6237-3429-41db-b3ee-cfe21552ebdc"
   },
   "outputs": [],
   "source": [
    "def bubble_sort(nums):\n",
    "    while True:\n",
    "        swapped = False\n",
    "\n",
    "        for i in range(1, len(nums)):\n",
    "            # if element is smaller than previous, it is not in ascending order\n",
    "            if nums[i-1] > nums[i]:\n",
    "                # swap elements, mark that an out of order element was found\n",
    "                nums[i], nums[i-1] = nums[i-1], nums[i]\n",
    "                swapped = True\n",
    "\n",
    "        # if no swaps (out of order elements) then the list is in ascending order, finished\n",
    "        if not swapped:\n",
    "            break\n",
    "\n",
    "    return nums"
   ]
  },
  {
   "cell_type": "markdown",
   "id": "6e9b0eca-85b0-490e-9f28-1801eb3044c7",
   "metadata": {
    "id": "6e9b0eca-85b0-490e-9f28-1801eb3044c7"
   },
   "source": [
    "## Selection Sort\n",
    "- Time: `O(n^2)`\n",
    "- Space: `O(1)`"
   ]
  },
  {
   "cell_type": "code",
   "execution_count": 2,
   "id": "5b9008df-fb7a-4c34-8691-00d568485428",
   "metadata": {
    "id": "5b9008df-fb7a-4c34-8691-00d568485428"
   },
   "outputs": [],
   "source": [
    "def selection_sort(nums):\n",
    "    # can skip last iteration since it will be in correct place\n",
    "    for i in range(len(nums) - 1):\n",
    "        min_index = i\n",
    "\n",
    "        # for each sub-array, find smallest element\n",
    "        for j in range(i+1, len(nums)):\n",
    "            if nums[j] < nums[min_index]:\n",
    "                min_index = j\n",
    "\n",
    "        # swap smallest element with beginning element (i), continue to next iteration (i+1)\n",
    "        # do not need to swap if beginning element was already smallest (already correct place)\n",
    "        if min_index != i:\n",
    "            nums[i], nums[min_index] = nums[min_index], nums[i]\n",
    "\n",
    "    return nums"
   ]
  },
  {
   "cell_type": "markdown",
   "id": "d6f015d4-05fc-4860-ba21-1672b092f01f",
   "metadata": {
    "id": "d6f015d4-05fc-4860-ba21-1672b092f01f"
   },
   "source": [
    "## Insertion Sort\n",
    "- Time: `O(n^2)`\n",
    "- Space: `O(1)`"
   ]
  },
  {
   "cell_type": "code",
   "execution_count": 3,
   "id": "a9928b17-4334-4ac0-9a30-47892de76f93",
   "metadata": {
    "id": "a9928b17-4334-4ac0-9a30-47892de76f93"
   },
   "outputs": [],
   "source": [
    "def insertion_sort(nums):\n",
    "    # go through each element skipping first\n",
    "    for i in range(1, len(nums)):\n",
    "        j = i\n",
    "\n",
    "        # shift element at i down repeatedly (j) until it is not smaller than previous\n",
    "        while j > 0 and nums[j-1] > nums[j]:\n",
    "            nums[j-1], nums[j] = nums[j], nums[j-1]\n",
    "            j -= 1\n",
    "\n",
    "    return nums"
   ]
  },
  {
   "cell_type": "markdown",
   "id": "1560d62f-1ba9-44e4-be67-9f4ff9184b27",
   "metadata": {
    "id": "1560d62f-1ba9-44e4-be67-9f4ff9184b27"
   },
   "source": [
    "## Merge Sort\n",
    "- Time: `O(n log n)`\n",
    "- Space: `O(n)`"
   ]
  },
  {
   "cell_type": "markdown",
   "id": "a62544d8-aac1-4e43-947e-bd6d0a7fed1b",
   "metadata": {
    "id": "a62544d8-aac1-4e43-947e-bd6d0a7fed1b"
   },
   "source": [
    "### _merge()\n",
    "\n",
    "The helper function `_merge()` merges two sorted lists into a single sorted list\n",
    "\n",
    "Same result as `heapq.merge()`"
   ]
  },
  {
   "cell_type": "code",
   "execution_count": 4,
   "id": "324be3bb-e2ec-433f-b18d-47ae8c60b2ec",
   "metadata": {
    "id": "324be3bb-e2ec-433f-b18d-47ae8c60b2ec"
   },
   "outputs": [],
   "source": [
    "def _merge(a, b):\n",
    "    merged = []\n",
    "\n",
    "    # add a and b's elements to empty list in order\n",
    "    i = 0\n",
    "    j = 0\n",
    "    while (i != len(a) and j != len(b)):\n",
    "        if a[i] <= b[j]:\n",
    "            merged.append(a[i])\n",
    "            i += 1\n",
    "        else:\n",
    "            merged.append(b[j])\n",
    "            j += 1\n",
    "\n",
    "    # handle remaining elements once one list finished\n",
    "    while i != len(a):\n",
    "        merged.append(a[i])\n",
    "        i += 1\n",
    "\n",
    "    while j != len(b):\n",
    "        merged.append(b[j])\n",
    "        j += 1\n",
    "\n",
    "    return merged"
   ]
  },
  {
   "cell_type": "markdown",
   "id": "2901c632-314a-4725-b877-81ec9352703d",
   "metadata": {
    "id": "2901c632-314a-4725-b877-81ec9352703d"
   },
   "source": [
    "### Top Down Merge Sort\n",
    "\n",
    "This approach uses recursion, splitting the list in half until it reaches 1 element size arrays to begin merging\n",
    "\n",
    "Uses the `_merge()` helper function"
   ]
  },
  {
   "cell_type": "code",
   "execution_count": 5,
   "id": "10572fa6-263d-4ff8-9c3c-187aa133fd89",
   "metadata": {
    "id": "10572fa6-263d-4ff8-9c3c-187aa133fd89"
   },
   "outputs": [],
   "source": [
    "def top_down_merge_sort(nums):\n",
    "    # base case, return nums if size 1 or 0\n",
    "    if not len(nums) > 1:\n",
    "        return nums\n",
    "\n",
    "    # split into 2 lists\n",
    "    midpoint = len(nums) // 2\n",
    "    left = nums[:midpoint]   # [:k] exclusive of k\n",
    "    right = nums[midpoint:]  # [k:] inclusive of k\n",
    "\n",
    "    left_sorted = top_down_merge_sort(left)\n",
    "    right_sorted = top_down_merge_sort(right)\n",
    "\n",
    "    # merge two resulting\n",
    "    return _merge(left_sorted, right_sorted)\n"
   ]
  },
  {
   "cell_type": "markdown",
   "id": "64d8509d-244d-470c-b9c2-f8951ac0d089",
   "metadata": {
    "id": "64d8509d-244d-470c-b9c2-f8951ac0d089"
   },
   "source": [
    "### Bottom Up Merge Sort\n",
    "\n",
    "This is an iterative approach, that starts at size 1 array and doubles at each iteration while merging until input size reached\n",
    "\n",
    "Uses the `_merge()` helper function"
   ]
  },
  {
   "cell_type": "code",
   "execution_count": 6,
   "id": "0f05c768-3e7e-4868-9f0b-08b8f9c2401d",
   "metadata": {
    "id": "0f05c768-3e7e-4868-9f0b-08b8f9c2401d"
   },
   "outputs": [],
   "source": [
    "def bottom_up_merge_sort(nums):\n",
    "    n = len(nums)\n",
    "    result = list(nums)\n",
    "    width = 1\n",
    "\n",
    "    while width < n:\n",
    "        for start in range(0, n, 2 * width):\n",
    "            mid = min(start + width, n)\n",
    "            end = min(start + 2 * width, n)\n",
    "\n",
    "            merged = _merge(result[start:mid], result[mid:end])\n",
    "            result[start:end] = merged\n",
    "\n",
    "        width *= 2\n",
    "\n",
    "    return result"
   ]
  },
  {
   "cell_type": "markdown",
   "id": "8c7a9e07-39e0-4296-b4c4-aad942ffd37a",
   "metadata": {
    "id": "8c7a9e07-39e0-4296-b4c4-aad942ffd37a"
   },
   "source": [
    "### Bottom Up Merge Sort with one buffer array\n",
    "\n",
    "This is the same iterative approach, but does not use slicing and maintains a single auxilary buffer"
   ]
  },
  {
   "cell_type": "code",
   "execution_count": 7,
   "id": "4dd028ca-fe08-4d14-a638-51e355182eae",
   "metadata": {
    "id": "4dd028ca-fe08-4d14-a638-51e355182eae"
   },
   "outputs": [],
   "source": [
    "def bottom_up_merge_sort_less_space(nums):\n",
    "    n = len(nums)\n",
    "\n",
    "    # maintain running merged result and a buffer to use during element swaps\n",
    "    merged = list(nums)\n",
    "    buffer = [None] * n\n",
    "\n",
    "    width = 1\n",
    "    while width < n:\n",
    "        # width will start at 1 and go to 2, 4, 8, ..., n\n",
    "        for start in range(0, n, width * 2):\n",
    "            # divide into 2 halves, use min to avoid out of index\n",
    "            mid = min(start + width, n)\n",
    "            end = min(start + 2 * width, n)\n",
    "\n",
    "            # treat as left and right partition\n",
    "            left = start\n",
    "            right = mid\n",
    "\n",
    "            # copy in order to auxiliary array\n",
    "            i = start\n",
    "            while i < end:\n",
    "                # if left still has elements (hasnt gone past midpoint, left's end)\n",
    "                #    and either right is out of elements (past end)\n",
    "                #            or left <= right (smaller)\n",
    "                # then use element from left\n",
    "                if left < mid and (right >= end or merged[left] <= merged[right]):\n",
    "                    buffer[i] = merged[left]\n",
    "                    left += 1\n",
    "\n",
    "                # else use element from right\n",
    "                else:\n",
    "                    buffer[i] = merged[right]\n",
    "                    right += 1\n",
    "\n",
    "                i += 1\n",
    "\n",
    "        # swap buffer with merged result\n",
    "        merged, buffer = buffer, merged\n",
    "        width *= 2\n",
    "\n",
    "    return merged"
   ]
  },
  {
   "cell_type": "markdown",
   "id": "3e5cbf78-9b69-4b59-b9ba-81193af0088c",
   "metadata": {},
   "source": [
    "## Heap Sort\n",
    "\n",
    "- Time: `O(n log n)`\n",
    "- Space: `O(1)` if in place heap, else `O(n)` "
   ]
  },
  {
   "cell_type": "code",
   "execution_count": 8,
   "id": "342f4695-2f23-4c3d-8870-113fb7aed50f",
   "metadata": {},
   "outputs": [],
   "source": [
    "import heapq  # python's heap structure\n",
    "\n",
    "def heap_sort_built_in(nums):\n",
    "    # O(n) space\n",
    "    heap = []\n",
    "    for num in nums:\n",
    "        heapq.heappush(heap, num)\n",
    "    \n",
    "    sorted_nums = []\n",
    "    while len(heap) > 0:\n",
    "        sorted_nums.append(heapq.heappop(heap))\n",
    "\n",
    "    return sorted_nums"
   ]
  },
  {
   "cell_type": "markdown",
   "id": "78fa61a2-9965-4352-9069-fb7c91669aaa",
   "metadata": {},
   "source": [
    "## Quick Sort\n",
    "\n",
    "- Time: `O(n log n)` average, `O(n^2)` worst case (if sorted)\n",
    "- Space: `O(n)` stack space"
   ]
  },
  {
   "cell_type": "markdown",
   "id": "34270631-2cdb-48b4-87ec-8319a59310b7",
   "metadata": {},
   "source": [
    "### Partition\n",
    "\n",
    "Partition a subarray around a chosen pivot, so that all elements to the left of that pivot's final place are `<=` to it, and all elements to the right are `>=`"
   ]
  },
  {
   "cell_type": "markdown",
   "id": "a8ecdddf-80a7-47bd-ba58-5eee38ac6fcd",
   "metadata": {},
   "source": [
    "#### Lomuto's\n",
    "\n",
    "The pivot is chosen to be the last element in the subarray\n",
    "\n",
    "Two points are used:\n",
    "\n",
    "- `i` tracks the boundary of elements less than the pivot\n",
    "\n",
    "- `j` scans the array from `start` to `end - 1`\n",
    "\n",
    "If `nums[j] < pivot`, increment `i` and swap `nums[i]` with `nums[j]`\n",
    "\n",
    "After the scan, swap the `pivot` with `nums[i + 1]` (because `nums[0]` to `nums[i]` is now < `pivot`)\n",
    "\n",
    "The `pivot` is now at `i + 1`, with all smaller elements to the left and larger to the right"
   ]
  },
  {
   "cell_type": "code",
   "execution_count": 9,
   "id": "093932d8-6475-41ed-8aec-f394f5e734a9",
   "metadata": {},
   "outputs": [],
   "source": [
    "def _partition_lomutos(nums, start, end):\n",
    "    pivot = nums[end]  # start with last element\n",
    "\n",
    "    # boundary of elements <= pivot\n",
    "    i = start - 1\n",
    "\n",
    "    # j scans subarray \n",
    "    for j in range(start, end):\n",
    "\n",
    "        # if current element belongs in the left partition (<= pivot)\n",
    "        if nums[j] <= pivot:\n",
    "            # add slot to left partition\n",
    "            i += 1\n",
    "            # move it to the end of the left partition by swapping\n",
    "            nums[i], nums[j] = nums[j], nums[i]\n",
    "\n",
    "    # pivot was at end, place after last element in left partition by swapping\n",
    "    nums[i+1], nums[end] = nums[end], nums[i+1]\n",
    "\n",
    "    # return final pivot position\n",
    "    return i + 1"
   ]
  },
  {
   "cell_type": "markdown",
   "id": "3ffb7eab-12db-4931-b31b-6b07fd0b4c7a",
   "metadata": {},
   "source": [
    "#### Hoare's\n",
    "\n",
    "The `pivot` is chosen to be the first element in the subarray\n",
    "\n",
    "Two pointers, one from the start `i` and one from the end `j`, travel towards eachother\n",
    "\n",
    "- everything to the left of `j` is `<= pivot`\n",
    "  \n",
    "- everything to the right of `i` is `>= pivot`\n",
    "\n",
    "As long as `i < j`, when a pair of out-of-place elements is found, `nums[i]` and `nums[j]` are swapped\n",
    "\n",
    "When the pointers cross, `j` is the final boundary between the two halves"
   ]
  },
  {
   "cell_type": "code",
   "execution_count": 10,
   "id": "89cdcbe7-5367-4eed-be4b-ce5d6369aa05",
   "metadata": {},
   "outputs": [],
   "source": [
    "def _partition_hoares(nums, start, end):\n",
    "    pivot = nums[start]  # start with first element as pivot\n",
    "\n",
    "    # initialize pointers just outside subarray\n",
    "    i = start - 1 \n",
    "    j = end + 1 \n",
    "\n",
    "    while True:\n",
    "\n",
    "        # bump i until num[i] is >= pivot\n",
    "        i += 1\n",
    "        while nums[i] < pivot:\n",
    "            i += 1\n",
    "\n",
    "        # decrease j until num[j] is <= pivot\n",
    "        j -= 1\n",
    "        while nums[j] > pivot:\n",
    "            j -= 1\n",
    "\n",
    "        # if pointers have met or crossed, partitioning is complete\n",
    "        if i >= j:\n",
    "            return j\n",
    "\n",
    "        # otherwise, swap the two out-of-place elements since either:\n",
    "        #   - nums[i] is >= pivot but on the left side\n",
    "        #   - nums[j] is <= pivot but on the right side\n",
    "        nums[i], nums[j] = nums[j], nums[i]"
   ]
  },
  {
   "cell_type": "markdown",
   "id": "06b1581b-955f-4f8b-93b7-326f77258c58",
   "metadata": {},
   "source": [
    "### Sort\n",
    "\n",
    "1. Partition the subarray from `start` to `end` so that all elements to left of index `p` are less than that element, and all elements to right are greater\n",
    "2. Recursively run `quick_sort` on the two partition halves until `nums` is sorted"
   ]
  },
  {
   "cell_type": "code",
   "execution_count": 11,
   "id": "f416428a-e529-426c-8452-e538e024d52c",
   "metadata": {},
   "outputs": [],
   "source": [
    "def quick_sort_hoares(nums):\n",
    "    def _quick_sort_recursive(start, end):\n",
    "        if start < end:\n",
    "            pivot = _partition_hoares(nums, start, end)\n",
    "            _quick_sort_recursive(start, pivot)  # _partition_hoares returns the last index of the left-hand subarray (not necessarily where the pivot is)\n",
    "            _quick_sort_recursive(pivot + 1, end)\n",
    "\n",
    "    # sort entire given array\n",
    "    _quick_sort_recursive(0, len(nums) - 1)\n",
    "    return nums\n",
    "    \n",
    "def quick_sort_lomutos(nums):\n",
    "    def _quick_sort_recursive(start, end):\n",
    "        if start < end:\n",
    "            pivot = _partition_lomutos(nums, start, end)\n",
    "            _quick_sort_recursive(start, pivot - 1)  # _partition_lomutos returns the exact final pivot index\n",
    "            _quick_sort_recursive(pivot + 1, end)\n",
    "\n",
    "    _quick_sort_recursive(0, len(nums) - 1)\n",
    "    return nums\n",
    "\n",
    "def quick_sort(nums):\n",
    "    return quick_sort_hoares(nums)  # better partitioning scheme"
   ]
  },
  {
   "cell_type": "markdown",
   "id": "a0d7cef0-cd4b-4846-8688-dcf5fa242873",
   "metadata": {},
   "source": [
    "## Bucket Sort\n",
    "\n",
    "- Time: `O(n)`\n",
    "- Space: `O(k)`, where k is highest key\n",
    "\n",
    "Only works for positive, though can be adjusted to include a negatives bucket which is prepended at end"
   ]
  },
  {
   "cell_type": "code",
   "execution_count": 12,
   "id": "c650f3da-01e2-496b-a4ad-c608c928a654",
   "metadata": {},
   "outputs": [],
   "source": [
    "def bucket_sort(nums):\n",
    "    \"\"\"\n",
    "    Only works if nums are positive\n",
    "    \"\"\"\n",
    "\n",
    "    # uses a lot of space\n",
    "    buckets = [0] * (max(nums) + 1)\n",
    "    \n",
    "    for num in nums:\n",
    "        buckets[num] += 1\n",
    "\n",
    "    sorted_nums = []\n",
    "    for (i, count) in enumerate(buckets):\n",
    "        if count != 0:\n",
    "            sorted_nums.extend([i]*count)\n",
    "\n",
    "    return sorted_nums"
   ]
  },
  {
   "cell_type": "markdown",
   "id": "671f9f34-201e-4eba-8617-f6a578818686",
   "metadata": {},
   "source": [
    "## Count Sort\n",
    "- Time: `O(k + n)`, where `k` is difference between largest and smallest value\n",
    "- Space: `O(n)`"
   ]
  },
  {
   "cell_type": "code",
   "execution_count": 13,
   "id": "42436acd-b136-4f04-a9fd-07389be3f6ab",
   "metadata": {},
   "outputs": [],
   "source": [
    "from collections import defaultdict\n",
    "\n",
    "def count_sort(nums):\n",
    "    counts = defaultdict(int)\n",
    "\n",
    "    start = nums[0]\n",
    "    end = nums[0]\n",
    "    \n",
    "    for num in nums:\n",
    "        counts[num] += 1\n",
    "        start = min(start, num)\n",
    "        end = max(end, num)\n",
    "\n",
    "    sorted_nums = []\n",
    "    for i in range(start, end+1):\n",
    "        if counts[i] >= 0:\n",
    "            sorted_nums.extend([i]*counts[i])\n",
    "\n",
    "    return sorted_nums"
   ]
  }
 ],
 "metadata": {
  "colab": {
   "provenance": []
  },
  "kernelspec": {
   "display_name": "Python 3 (dsa_notebooks_env)",
   "language": "python",
   "name": "dsa_notebooks_env"
  },
  "language_info": {
   "codemirror_mode": {
    "name": "ipython",
    "version": 3
   },
   "file_extension": ".py",
   "mimetype": "text/x-python",
   "name": "python",
   "nbconvert_exporter": "python",
   "pygments_lexer": "ipython3",
   "version": "3.11.7"
  }
 },
 "nbformat": 4,
 "nbformat_minor": 5
}
