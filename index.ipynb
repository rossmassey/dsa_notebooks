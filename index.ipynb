{
 "cells": [
  {
   "cell_type": "markdown",
   "id": "f26bab67-0d01-4c6b-91ee-a42ba4978615",
   "metadata": {},
   "source": [
    "# Index\n",
    "\n",
    "- [Sorting Algorithms](sorting_algorithms.ipynb)\n",
    "  - [Tests](sorting_algorithms_tests.ipynb)"
   ]
  },
  {
   "cell_type": "code",
   "execution_count": null,
   "id": "f9d8a26d-3939-438a-ad96-9509b7b3d661",
   "metadata": {},
   "outputs": [],
   "source": []
  }
 ],
 "metadata": {
  "kernelspec": {
   "display_name": "Python 3 (dsa_notebooks_env)",
   "language": "python",
   "name": "dsa_notebooks_env"
  },
  "language_info": {
   "codemirror_mode": {
    "name": "ipython",
    "version": 3
   },
   "file_extension": ".py",
   "mimetype": "text/x-python",
   "name": "python",
   "nbconvert_exporter": "python",
   "pygments_lexer": "ipython3",
   "version": "3.11.7"
  }
 },
 "nbformat": 4,
 "nbformat_minor": 5
}
