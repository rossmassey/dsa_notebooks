{
 "cells": [
  {
   "cell_type": "markdown",
   "id": "f26bab67-0d01-4c6b-91ee-a42ba4978615",
   "metadata": {},
   "source": [
    "# Index\n",
    "\n",
    "## [Sorting Algorithms](algorithms/sorting_algorithms.ipynb)\n",
    "\n",
    "Implemented:\n",
    "- Bubble Sort\n",
    "- Selection Sort\n",
    "- Insertion Sort\n",
    "- Top Down and Bottom Up Merge Sort\n",
    "\n",
    "**[Sorting Algorithms Benchmark](benchmarks/benchmark_sorting_algorithms.ipynb)**\n",
    "\n",
    "\n",
    "# Google Colab Note\n",
    "\n",
    "This notebook can be imported into google colab with this link:\n",
    "\n",
    "- **https://colab.research.google.com/github/rossmassey/dsa_notebooks/blob/main/index.ipynb**\n",
    "\n",
    "Google Colab starts notebooks isolated in their own instance without access to other repo files, the code in **[colab_import.ipynb](colab_import.ipynb)** is used when loading notebooks so that colab has access to them in same way a local jupyter lab would"
   ]
  }
 ],
 "metadata": {
  "kernelspec": {
   "display_name": "Python 3 (dsa_notebooks_env)",
   "language": "python",
   "name": "dsa_notebooks_env"
  },
  "language_info": {
   "codemirror_mode": {
    "name": "ipython",
    "version": 3
   },
   "file_extension": ".py",
   "mimetype": "text/x-python",
   "name": "python",
   "nbconvert_exporter": "python",
   "pygments_lexer": "ipython3",
   "version": "3.11.7"
  }
 },
 "nbformat": 4,
 "nbformat_minor": 5
}
